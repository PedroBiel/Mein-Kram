{
  "nbformat": 4,
  "nbformat_minor": 0,
  "metadata": {
    "kernelspec": {
      "display_name": "Python 3",
      "language": "python",
      "name": "python3"
    },
    "language_info": {
      "codemirror_mode": {
        "name": "ipython",
        "version": 3
      },
      "file_extension": ".py",
      "mimetype": "text/x-python",
      "name": "python",
      "nbconvert_exporter": "python",
      "pygments_lexer": "ipython3",
      "version": "3.7.6"
    },
    "colab": {
      "name": "CTE DB SE-AE Viento 0.0.0.ipynb",
      "provenance": [],
      "include_colab_link": true
    }
  },
  "cells": [
    {
      "cell_type": "markdown",
      "metadata": {
        "id": "view-in-github",
        "colab_type": "text"
      },
      "source": [
        "<a href=\"https://colab.research.google.com/github/PedroBiel/Mein_Kram/blob/master/CTE_DB_SE_AE_Viento_0_0_0.ipynb\" target=\"_parent\"><img src=\"https://colab.research.google.com/assets/colab-badge.svg\" alt=\"Open In Colab\"/></a>"
      ]
    },
    {
      "cell_type": "markdown",
      "metadata": {
        "id": "oQG-4Oe1fV5k",
        "colab_type": "text"
      },
      "source": [
        "# Acción del viento\n",
        "# según CTE DB-SE-AE 2009"
      ]
    },
    {
      "cell_type": "markdown",
      "metadata": {
        "id": "2Lx6vCpcfV5o",
        "colab_type": "text"
      },
      "source": [
        "11.03.2020 Pedro Biel"
      ]
    },
    {
      "cell_type": "markdown",
      "metadata": {
        "id": "ZuLbR10WfV5t",
        "colab_type": "text"
      },
      "source": [
        "## Librerías\n",
        "---"
      ]
    },
    {
      "cell_type": "code",
      "metadata": {
        "id": "pSnno6ybfV5w",
        "colab_type": "code",
        "colab": {}
      },
      "source": [
        "import matplotlib.pyplot as plt\n",
        "import numpy as np\n",
        "import pandas as pd\n",
        "from math import ceil, log"
      ],
      "execution_count": 0,
      "outputs": []
    },
    {
      "cell_type": "markdown",
      "metadata": {
        "id": "TsOYERA-fV6C",
        "colab_type": "text"
      },
      "source": [
        "## Presión dinámica\n",
        "---"
      ]
    },
    {
      "cell_type": "code",
      "metadata": {
        "id": "ipH--c0wfV6H",
        "colab_type": "code",
        "outputId": "a3f4ef32-4163-4c87-d116-22acd180fc32",
        "colab": {
          "base_uri": "https://localhost:8080/",
          "height": 143
        }
      },
      "source": [
        "dcc_presion_dinamica = {\n",
        "    'zonas': ['A', 'B', 'C'],\n",
        "    'velocidad_básica': [26, 27, 28],\n",
        "    'presion_dinámica': [0.42, 0.45, 0.52]\n",
        "}\n",
        "df_presion_dinamica = pd.DataFrame.from_dict(dcc_presion_dinamica)\n",
        "df_presion_dinamica"
      ],
      "execution_count": 0,
      "outputs": [
        {
          "output_type": "execute_result",
          "data": {
            "text/html": [
              "<div>\n",
              "<style scoped>\n",
              "    .dataframe tbody tr th:only-of-type {\n",
              "        vertical-align: middle;\n",
              "    }\n",
              "\n",
              "    .dataframe tbody tr th {\n",
              "        vertical-align: top;\n",
              "    }\n",
              "\n",
              "    .dataframe thead th {\n",
              "        text-align: right;\n",
              "    }\n",
              "</style>\n",
              "<table border=\"1\" class=\"dataframe\">\n",
              "  <thead>\n",
              "    <tr style=\"text-align: right;\">\n",
              "      <th></th>\n",
              "      <th>zonas</th>\n",
              "      <th>velocidad_básica</th>\n",
              "      <th>presion_dinámica</th>\n",
              "    </tr>\n",
              "  </thead>\n",
              "  <tbody>\n",
              "    <tr>\n",
              "      <th>0</th>\n",
              "      <td>A</td>\n",
              "      <td>26</td>\n",
              "      <td>0.42</td>\n",
              "    </tr>\n",
              "    <tr>\n",
              "      <th>1</th>\n",
              "      <td>B</td>\n",
              "      <td>27</td>\n",
              "      <td>0.45</td>\n",
              "    </tr>\n",
              "    <tr>\n",
              "      <th>2</th>\n",
              "      <td>C</td>\n",
              "      <td>28</td>\n",
              "      <td>0.52</td>\n",
              "    </tr>\n",
              "  </tbody>\n",
              "</table>\n",
              "</div>"
            ],
            "text/plain": [
              "  zonas  velocidad_básica  presion_dinámica\n",
              "0     A                26              0.42\n",
              "1     B                27              0.45\n",
              "2     C                28              0.52"
            ]
          },
          "metadata": {
            "tags": []
          },
          "execution_count": 37
        }
      ]
    },
    {
      "cell_type": "markdown",
      "metadata": {
        "id": "zzra7wu2fV6T",
        "colab_type": "text"
      },
      "source": [
        "Donde:\n",
        "\n",
        "- **zonas**: zonas para el valor básico de la velocidad del viento según la figura D.1.\n",
        "- **velocidad_básica**: velocidad básica del viento según la figura D.1 en $m/s$.\n",
        "- **presion_dinámica**: valor básico de la presión dinámica en $kN/m^2$."
      ]
    },
    {
      "cell_type": "markdown",
      "metadata": {
        "id": "xusydfrGfV6U",
        "colab_type": "text"
      },
      "source": [
        "### Zona"
      ]
    },
    {
      "cell_type": "code",
      "metadata": {
        "id": "MSJvTvCGfV6Y",
        "colab_type": "code",
        "outputId": "351dd75f-4742-45df-a234-52e2f346f625",
        "colab": {
          "base_uri": "https://localhost:8080/",
          "height": 35
        }
      },
      "source": [
        "zona = 'B'  # <-- Entrada de datos.\n",
        "print('Zona:', zona)"
      ],
      "execution_count": 0,
      "outputs": [
        {
          "output_type": "stream",
          "text": [
            "Zona: B\n"
          ],
          "name": "stdout"
        }
      ]
    },
    {
      "cell_type": "markdown",
      "metadata": {
        "id": "Vs9BOXxVfV6h",
        "colab_type": "text"
      },
      "source": [
        "### Velocidad básica"
      ]
    },
    {
      "cell_type": "code",
      "metadata": {
        "id": "7k4bZqtefV6i",
        "colab_type": "code",
        "outputId": "aca70d12-d390-49c6-b45e-e1bd5d234037",
        "colab": {
          "base_uri": "https://localhost:8080/",
          "height": 35
        }
      },
      "source": [
        "vb = df_presion_dinamica['velocidad_básica'].loc[df_presion_dinamica['zonas'] == zona].values.item()\n",
        "print('vb =', vb, 'm/s')"
      ],
      "execution_count": 0,
      "outputs": [
        {
          "output_type": "stream",
          "text": [
            "vb = 27 m/s\n"
          ],
          "name": "stdout"
        }
      ]
    },
    {
      "cell_type": "markdown",
      "metadata": {
        "id": "xaekMDBifV6s",
        "colab_type": "text"
      },
      "source": [
        "### Presión dinámica"
      ]
    },
    {
      "cell_type": "code",
      "metadata": {
        "id": "lMnSZaT6fV6v",
        "colab_type": "code",
        "outputId": "167dedb7-aac1-41ee-f377-b4a7f6ed7001",
        "colab": {
          "base_uri": "https://localhost:8080/",
          "height": 35
        }
      },
      "source": [
        "qb = df_presion_dinamica['presion_dinámica'].loc[df_presion_dinamica['zonas'] == zona].values.item()\n",
        "print('qb =', qb, 'kN/m²')"
      ],
      "execution_count": 0,
      "outputs": [
        {
          "output_type": "stream",
          "text": [
            "qb = 0.45 kN/m²\n"
          ],
          "name": "stdout"
        }
      ]
    },
    {
      "cell_type": "markdown",
      "metadata": {
        "id": "27M78Ip5fV64",
        "colab_type": "text"
      },
      "source": [
        "## Periodo de retorno\n",
        "---"
      ]
    },
    {
      "cell_type": "code",
      "metadata": {
        "id": "F8iW-qEEfV65",
        "colab_type": "code",
        "outputId": "54ea8430-2ea4-4318-e177-bd7e3436ce59",
        "colab": {
          "base_uri": "https://localhost:8080/",
          "height": 269
        }
      },
      "source": [
        "dcc_periodo_retorno = {\n",
        "    'periodo_retorno': [1, 2, 5, 10, 20, 50, 200],\n",
        "    'coeficiente_corrector': [0.41, 0.78, 0.85, 0.90, 0.95, 1.00, 1.08]\n",
        "}\n",
        "df_periodo_retorno = pd.DataFrame.from_dict(dcc_periodo_retorno)\n",
        "df_periodo_retorno"
      ],
      "execution_count": 0,
      "outputs": [
        {
          "output_type": "execute_result",
          "data": {
            "text/html": [
              "<div>\n",
              "<style scoped>\n",
              "    .dataframe tbody tr th:only-of-type {\n",
              "        vertical-align: middle;\n",
              "    }\n",
              "\n",
              "    .dataframe tbody tr th {\n",
              "        vertical-align: top;\n",
              "    }\n",
              "\n",
              "    .dataframe thead th {\n",
              "        text-align: right;\n",
              "    }\n",
              "</style>\n",
              "<table border=\"1\" class=\"dataframe\">\n",
              "  <thead>\n",
              "    <tr style=\"text-align: right;\">\n",
              "      <th></th>\n",
              "      <th>periodo_retorno</th>\n",
              "      <th>coeficiente_corrector</th>\n",
              "    </tr>\n",
              "  </thead>\n",
              "  <tbody>\n",
              "    <tr>\n",
              "      <th>0</th>\n",
              "      <td>1</td>\n",
              "      <td>0.41</td>\n",
              "    </tr>\n",
              "    <tr>\n",
              "      <th>1</th>\n",
              "      <td>2</td>\n",
              "      <td>0.78</td>\n",
              "    </tr>\n",
              "    <tr>\n",
              "      <th>2</th>\n",
              "      <td>5</td>\n",
              "      <td>0.85</td>\n",
              "    </tr>\n",
              "    <tr>\n",
              "      <th>3</th>\n",
              "      <td>10</td>\n",
              "      <td>0.90</td>\n",
              "    </tr>\n",
              "    <tr>\n",
              "      <th>4</th>\n",
              "      <td>20</td>\n",
              "      <td>0.95</td>\n",
              "    </tr>\n",
              "    <tr>\n",
              "      <th>5</th>\n",
              "      <td>50</td>\n",
              "      <td>1.00</td>\n",
              "    </tr>\n",
              "    <tr>\n",
              "      <th>6</th>\n",
              "      <td>200</td>\n",
              "      <td>1.08</td>\n",
              "    </tr>\n",
              "  </tbody>\n",
              "</table>\n",
              "</div>"
            ],
            "text/plain": [
              "   periodo_retorno  coeficiente_corrector\n",
              "0                1                   0.41\n",
              "1                2                   0.78\n",
              "2                5                   0.85\n",
              "3               10                   0.90\n",
              "4               20                   0.95\n",
              "5               50                   1.00\n",
              "6              200                   1.08"
            ]
          },
          "metadata": {
            "tags": []
          },
          "execution_count": 41
        }
      ]
    },
    {
      "cell_type": "markdown",
      "metadata": {
        "id": "3W_fV9oGfV7A",
        "colab_type": "text"
      },
      "source": [
        "Donde:\n",
        "\n",
        "- **periodo_retorno**: periodo de retorno en años según la tabla D.1.\n",
        "- **coeficiente_corrector**: coeficiente corrector según el preiodo de retorno."
      ]
    },
    {
      "cell_type": "markdown",
      "metadata": {
        "id": "ze3njkYsfV7C",
        "colab_type": "text"
      },
      "source": [
        "### Periodo de retorno"
      ]
    },
    {
      "cell_type": "code",
      "metadata": {
        "id": "MxB6VWd_fV7E",
        "colab_type": "code",
        "outputId": "9313084d-2394-4264-ccfa-85136ea6ef2e",
        "colab": {
          "base_uri": "https://localhost:8080/",
          "height": 35
        }
      },
      "source": [
        "pr = 50  # años. <-- Entrada de datos.\n",
        "print('Perido de retorno de', pr, 'años.')"
      ],
      "execution_count": 0,
      "outputs": [
        {
          "output_type": "stream",
          "text": [
            "Perido de retorno de 50 años.\n"
          ],
          "name": "stdout"
        }
      ]
    },
    {
      "cell_type": "code",
      "metadata": {
        "id": "HdrPtGGxfV7N",
        "colab_type": "code",
        "outputId": "d9a1f3eb-e32d-49bf-a329-fbe3e26e0f2d",
        "colab": {
          "base_uri": "https://localhost:8080/",
          "height": 35
        }
      },
      "source": [
        "cc = df_periodo_retorno['coeficiente_corrector'].loc[\n",
        "    df_periodo_retorno['periodo_retorno'] == pr\n",
        "    ].values.item()\n",
        "print('Coeficiente corrector =', cc)"
      ],
      "execution_count": 0,
      "outputs": [
        {
          "output_type": "stream",
          "text": [
            "Coeficiente corrector = 1.0\n"
          ],
          "name": "stdout"
        }
      ]
    },
    {
      "cell_type": "markdown",
      "metadata": {
        "id": "SN1XSHNLfV7U",
        "colab_type": "text"
      },
      "source": [
        "## Coeficiente de exposición\n",
        "---"
      ]
    },
    {
      "cell_type": "code",
      "metadata": {
        "id": "pk33EbJ0fV7W",
        "colab_type": "code",
        "outputId": "16611e20-217f-44ea-8d06-87f1ff789685",
        "colab": {
          "base_uri": "https://localhost:8080/",
          "height": 206
        }
      },
      "source": [
        "dcc_coeficientes_entorno = {\n",
        "    'grados': ['I', 'II', 'III', 'IV', 'V'],\n",
        "    'k': [0.156, 0.17, 0.19, 0.22, 0.24],\n",
        "    'L': [0.003, 0.01, 0.05, 0.3, 1.0],\n",
        "    'Z': [1., 1., 2., 5., 10.]\n",
        "}\n",
        "df_coeficientes_entorno = pd.DataFrame.from_dict(dcc_coeficientes_entorno)\n",
        "df_coeficientes_entorno"
      ],
      "execution_count": 0,
      "outputs": [
        {
          "output_type": "execute_result",
          "data": {
            "text/html": [
              "<div>\n",
              "<style scoped>\n",
              "    .dataframe tbody tr th:only-of-type {\n",
              "        vertical-align: middle;\n",
              "    }\n",
              "\n",
              "    .dataframe tbody tr th {\n",
              "        vertical-align: top;\n",
              "    }\n",
              "\n",
              "    .dataframe thead th {\n",
              "        text-align: right;\n",
              "    }\n",
              "</style>\n",
              "<table border=\"1\" class=\"dataframe\">\n",
              "  <thead>\n",
              "    <tr style=\"text-align: right;\">\n",
              "      <th></th>\n",
              "      <th>grados</th>\n",
              "      <th>k</th>\n",
              "      <th>L</th>\n",
              "      <th>Z</th>\n",
              "    </tr>\n",
              "  </thead>\n",
              "  <tbody>\n",
              "    <tr>\n",
              "      <th>0</th>\n",
              "      <td>I</td>\n",
              "      <td>0.156</td>\n",
              "      <td>0.003</td>\n",
              "      <td>1.0</td>\n",
              "    </tr>\n",
              "    <tr>\n",
              "      <th>1</th>\n",
              "      <td>II</td>\n",
              "      <td>0.170</td>\n",
              "      <td>0.010</td>\n",
              "      <td>1.0</td>\n",
              "    </tr>\n",
              "    <tr>\n",
              "      <th>2</th>\n",
              "      <td>III</td>\n",
              "      <td>0.190</td>\n",
              "      <td>0.050</td>\n",
              "      <td>2.0</td>\n",
              "    </tr>\n",
              "    <tr>\n",
              "      <th>3</th>\n",
              "      <td>IV</td>\n",
              "      <td>0.220</td>\n",
              "      <td>0.300</td>\n",
              "      <td>5.0</td>\n",
              "    </tr>\n",
              "    <tr>\n",
              "      <th>4</th>\n",
              "      <td>V</td>\n",
              "      <td>0.240</td>\n",
              "      <td>1.000</td>\n",
              "      <td>10.0</td>\n",
              "    </tr>\n",
              "  </tbody>\n",
              "</table>\n",
              "</div>"
            ],
            "text/plain": [
              "  grados      k      L     Z\n",
              "0      I  0.156  0.003   1.0\n",
              "1     II  0.170  0.010   1.0\n",
              "2    III  0.190  0.050   2.0\n",
              "3     IV  0.220  0.300   5.0\n",
              "4      V  0.240  1.000  10.0"
            ]
          },
          "metadata": {
            "tags": []
          },
          "execution_count": 44
        }
      ]
    },
    {
      "cell_type": "markdown",
      "metadata": {
        "id": "ehiRB6gkfV7f",
        "colab_type": "text"
      },
      "source": [
        "Donde:\n",
        "\n",
        "- **grados**: grados de aspereza del entorno según la tabla D.2.\n",
        "- **k**: parámetro característico de cada tipo de entorno según la tabla D.2.\n",
        "- **L**: parámetro característico de cada tipo de entorno según la tabla D.2 en $m$.\n",
        "- **Z**: parámetro característico de cada tipo de entorno según la tabla D.2 en $m$.\n",
        "\n",
        "Los grados de asperza de dividen en:\n",
        "\n",
        "| Grado | Deficición |\n",
        "| ----- | ---------- |\n",
        "| **I** | Borde del mar o de un lago, con una superficie de agua en la dirección del viento de al menos 5 km de longitud. |\n",
        "| **II** | Terreno rural llano sin obstáculos ni arbolado de importancia. |\n",
        "| **III** | Zona rural accidentada o llana con algunos obstáculos aislados, como árboles o construcciones pequeñas. |\n",
        "| **IV** | Zona urbana en general, industrial o forestal. |\n",
        "| **V** | Centro de negocios de grandes ciudades, con profusión de edificios en altura. |"
      ]
    },
    {
      "cell_type": "markdown",
      "metadata": {
        "id": "qJEFgS6LfV7g",
        "colab_type": "text"
      },
      "source": [
        "### Grado de aspereza"
      ]
    },
    {
      "cell_type": "code",
      "metadata": {
        "id": "m7A1-2hffV7h",
        "colab_type": "code",
        "outputId": "3b5cb9f3-5c3f-4e42-cb06-82027a595026",
        "colab": {
          "base_uri": "https://localhost:8080/",
          "height": 35
        }
      },
      "source": [
        "grado = 'I'  # <-- Entrada de datos.\n",
        "print('Grado de aspereza =', grado)"
      ],
      "execution_count": 0,
      "outputs": [
        {
          "output_type": "stream",
          "text": [
            "Grado de aspereza = I\n"
          ],
          "name": "stdout"
        }
      ]
    },
    {
      "cell_type": "markdown",
      "metadata": {
        "id": "F9WbslinfV70",
        "colab_type": "text"
      },
      "source": [
        "### Parámetro k"
      ]
    },
    {
      "cell_type": "code",
      "metadata": {
        "id": "UYUhpc-YfV71",
        "colab_type": "code",
        "outputId": "f8a87e37-eebb-48f7-9252-62941bdb1c4b",
        "colab": {
          "base_uri": "https://localhost:8080/",
          "height": 35
        }
      },
      "source": [
        "k = df_coeficientes_entorno['k'].loc[df_coeficientes_entorno['grados'] == grado].values.item()\n",
        "print('k =', k)"
      ],
      "execution_count": 0,
      "outputs": [
        {
          "output_type": "stream",
          "text": [
            "k = 0.156\n"
          ],
          "name": "stdout"
        }
      ]
    },
    {
      "cell_type": "markdown",
      "metadata": {
        "id": "5Ay1ZzIjfV77",
        "colab_type": "text"
      },
      "source": [
        "### Parámetro L"
      ]
    },
    {
      "cell_type": "code",
      "metadata": {
        "id": "98f8o0J3fV79",
        "colab_type": "code",
        "outputId": "0a552c48-fe8d-47b1-d6ac-a94975b63058",
        "colab": {
          "base_uri": "https://localhost:8080/",
          "height": 35
        }
      },
      "source": [
        "L = df_coeficientes_entorno['L'].loc[df_coeficientes_entorno['grados'] == grado].values.item()\n",
        "print('L =', L, 'm')"
      ],
      "execution_count": 0,
      "outputs": [
        {
          "output_type": "stream",
          "text": [
            "L = 0.003 m\n"
          ],
          "name": "stdout"
        }
      ]
    },
    {
      "cell_type": "markdown",
      "metadata": {
        "id": "6AfKSTrzfV8E",
        "colab_type": "text"
      },
      "source": [
        "### Parámetro Z"
      ]
    },
    {
      "cell_type": "code",
      "metadata": {
        "id": "2EqvNOHrfV8F",
        "colab_type": "code",
        "outputId": "3829c494-24b8-4aea-ee52-19f37df62d07",
        "colab": {
          "base_uri": "https://localhost:8080/",
          "height": 35
        }
      },
      "source": [
        "Z = df_coeficientes_entorno['Z'].loc[df_coeficientes_entorno['grados'] == grado].values.item()\n",
        "print('Z =', Z, 'm')"
      ],
      "execution_count": 0,
      "outputs": [
        {
          "output_type": "stream",
          "text": [
            "Z = 1.0 m\n"
          ],
          "name": "stdout"
        }
      ]
    },
    {
      "cell_type": "markdown",
      "metadata": {
        "id": "MQOn9mQFfV8M",
        "colab_type": "text"
      },
      "source": [
        "### Altura sobre el terreno $z$ < 200 $m$"
      ]
    },
    {
      "cell_type": "code",
      "metadata": {
        "id": "zM33OZnffV8M",
        "colab_type": "code",
        "outputId": "7caada74-f4a9-4dfa-966b-697b551e0666",
        "colab": {
          "base_uri": "https://localhost:8080/",
          "height": 35
        }
      },
      "source": [
        "z = np.arange(start=0, stop=200, step=1)\n",
        "print('Altura sobre el terreno en los primeros 10 m =', z[:11], ' m')"
      ],
      "execution_count": 0,
      "outputs": [
        {
          "output_type": "stream",
          "text": [
            "Altura sobre el terreno en los primeros 10 m = [ 0  1  2  3  4  5  6  7  8  9 10]  m\n"
          ],
          "name": "stdout"
        }
      ]
    },
    {
      "cell_type": "markdown",
      "metadata": {
        "id": "0zDZr8F-fV8U",
        "colab_type": "text"
      },
      "source": [
        "### Coeficiente de exposición"
      ]
    },
    {
      "cell_type": "markdown",
      "metadata": {
        "id": "n1wfEpQnfV8V",
        "colab_type": "text"
      },
      "source": [
        "$$c_e = F · (F + 7 · k)$$\n",
        "$$F = k · \\ln(\\max(z, Z) / L)$$"
      ]
    },
    {
      "cell_type": "code",
      "metadata": {
        "id": "5OXAUQg_fV8Z",
        "colab_type": "code",
        "outputId": "227d2aa1-c4f7-4a93-ae87-e9efcb359e81",
        "colab": {
          "base_uri": "https://localhost:8080/",
          "height": 72
        }
      },
      "source": [
        "max_z = np.array([max(i, Z) for i in z])\n",
        "F = k * np.log(max_z / L)\n",
        "ce = F * (F + 7 * k)\n",
        "print('Coeficiente de exposición en los primeros 30 m cada 5 m =')\n",
        "print(ce[0:31:5])"
      ],
      "execution_count": 0,
      "outputs": [
        {
          "output_type": "stream",
          "text": [
            "Coeficiente de exposición en los primeros 30 m cada 5 m =\n",
            "[1.81084525 2.60311019 2.98316113 3.21631712 3.38659667 3.52144975\n",
            " 3.63343178]\n"
          ],
          "name": "stdout"
        }
      ]
    },
    {
      "cell_type": "markdown",
      "metadata": {
        "id": "fubloBpSfV8e",
        "colab_type": "text"
      },
      "source": [
        "## Presión estática\n",
        "---"
      ]
    },
    {
      "cell_type": "markdown",
      "metadata": {
        "id": "O_LMmDZ1fV8g",
        "colab_type": "text"
      },
      "source": [
        "$$q_e = q_b · c_e · c_p · \\text{coeficiente corrector}$$\n",
        "\n",
        "Donde:\n",
        "\n",
        "- $q_e$: presión estática en $kN/m²$.\n",
        "- $c_p$: coeficiente eólico que no es objeto de estudio en este documento. Se considerará $c_p$ = 1.\n"
      ]
    },
    {
      "cell_type": "code",
      "metadata": {
        "id": "yL-UuOBtfV8g",
        "colab_type": "code",
        "outputId": "a2a8eae7-5b19-4d3d-bf5c-138d2a102cbb",
        "colab": {
          "base_uri": "https://localhost:8080/",
          "height": 206
        }
      },
      "source": [
        "df = pd.DataFrame()\n",
        "df['$z$'] = z\n",
        "df['$q_b$'] = qb\n",
        "df['$c_e$'] = np.around(ce, decimals=3)\n",
        "df['$c_p$'] = 1\n",
        "df['$cc$'] = cc\n",
        "df['$q_e$'] = np.around(qb * ce * df['$c_p$'] * cc, decimals=2)\n",
        "qer = df['$q_e$'].loc[df['$z$'] == 10].values.item()\n",
        "df['$r$'] = np.around(df['$q_e$'] / qer, decimals=2)\n",
        "df.sample(5)"
      ],
      "execution_count": 0,
      "outputs": [
        {
          "output_type": "execute_result",
          "data": {
            "text/html": [
              "<div>\n",
              "<style scoped>\n",
              "    .dataframe tbody tr th:only-of-type {\n",
              "        vertical-align: middle;\n",
              "    }\n",
              "\n",
              "    .dataframe tbody tr th {\n",
              "        vertical-align: top;\n",
              "    }\n",
              "\n",
              "    .dataframe thead th {\n",
              "        text-align: right;\n",
              "    }\n",
              "</style>\n",
              "<table border=\"1\" class=\"dataframe\">\n",
              "  <thead>\n",
              "    <tr style=\"text-align: right;\">\n",
              "      <th></th>\n",
              "      <th>$z$</th>\n",
              "      <th>$q_b$</th>\n",
              "      <th>$c_e$</th>\n",
              "      <th>$c_p$</th>\n",
              "      <th>$cc$</th>\n",
              "      <th>$q_e$</th>\n",
              "      <th>$r$</th>\n",
              "    </tr>\n",
              "  </thead>\n",
              "  <tbody>\n",
              "    <tr>\n",
              "      <th>69</th>\n",
              "      <td>69</td>\n",
              "      <td>0.45</td>\n",
              "      <td>4.166</td>\n",
              "      <td>1</td>\n",
              "      <td>1.0</td>\n",
              "      <td>1.87</td>\n",
              "      <td>1.40</td>\n",
              "    </tr>\n",
              "    <tr>\n",
              "      <th>97</th>\n",
              "      <td>97</td>\n",
              "      <td>0.45</td>\n",
              "      <td>4.393</td>\n",
              "      <td>1</td>\n",
              "      <td>1.0</td>\n",
              "      <td>1.98</td>\n",
              "      <td>1.48</td>\n",
              "    </tr>\n",
              "    <tr>\n",
              "      <th>27</th>\n",
              "      <td>27</td>\n",
              "      <td>0.45</td>\n",
              "      <td>3.569</td>\n",
              "      <td>1</td>\n",
              "      <td>1.0</td>\n",
              "      <td>1.61</td>\n",
              "      <td>1.20</td>\n",
              "    </tr>\n",
              "    <tr>\n",
              "      <th>185</th>\n",
              "      <td>185</td>\n",
              "      <td>0.45</td>\n",
              "      <td>4.839</td>\n",
              "      <td>1</td>\n",
              "      <td>1.0</td>\n",
              "      <td>2.18</td>\n",
              "      <td>1.63</td>\n",
              "    </tr>\n",
              "    <tr>\n",
              "      <th>50</th>\n",
              "      <td>50</td>\n",
              "      <td>0.45</td>\n",
              "      <td>3.956</td>\n",
              "      <td>1</td>\n",
              "      <td>1.0</td>\n",
              "      <td>1.78</td>\n",
              "      <td>1.33</td>\n",
              "    </tr>\n",
              "  </tbody>\n",
              "</table>\n",
              "</div>"
            ],
            "text/plain": [
              "     $z$  $q_b$  $c_e$  $c_p$  $cc$  $q_e$   $r$\n",
              "69    69   0.45  4.166      1   1.0   1.87  1.40\n",
              "97    97   0.45  4.393      1   1.0   1.98  1.48\n",
              "27    27   0.45  3.569      1   1.0   1.61  1.20\n",
              "185  185   0.45  4.839      1   1.0   2.18  1.63\n",
              "50    50   0.45  3.956      1   1.0   1.78  1.33"
            ]
          },
          "metadata": {
            "tags": []
          },
          "execution_count": 51
        }
      ]
    },
    {
      "cell_type": "code",
      "metadata": {
        "id": "ZN6EP0iufV8o",
        "colab_type": "code",
        "outputId": "4490e8cd-bbd3-4f68-84ac-d1f9d34d070d",
        "colab": {
          "base_uri": "https://localhost:8080/",
          "height": 269
        }
      },
      "source": [
        "z_min = 0  # [m]  <-- Entrada de datos.\n",
        "z_max = 30  # [m]  <-- Entrada de datos.\n",
        "z_paso = 5  # [m]  <-- Entrada de datos.\n",
        "df_qe = df.loc[z_min:z_max].where(df['$z$'] % z_paso == 0).dropna()\n",
        "df_qe"
      ],
      "execution_count": 0,
      "outputs": [
        {
          "output_type": "execute_result",
          "data": {
            "text/html": [
              "<div>\n",
              "<style scoped>\n",
              "    .dataframe tbody tr th:only-of-type {\n",
              "        vertical-align: middle;\n",
              "    }\n",
              "\n",
              "    .dataframe tbody tr th {\n",
              "        vertical-align: top;\n",
              "    }\n",
              "\n",
              "    .dataframe thead th {\n",
              "        text-align: right;\n",
              "    }\n",
              "</style>\n",
              "<table border=\"1\" class=\"dataframe\">\n",
              "  <thead>\n",
              "    <tr style=\"text-align: right;\">\n",
              "      <th></th>\n",
              "      <th>$z$</th>\n",
              "      <th>$q_b$</th>\n",
              "      <th>$c_e$</th>\n",
              "      <th>$c_p$</th>\n",
              "      <th>$cc$</th>\n",
              "      <th>$q_e$</th>\n",
              "      <th>$r$</th>\n",
              "    </tr>\n",
              "  </thead>\n",
              "  <tbody>\n",
              "    <tr>\n",
              "      <th>0</th>\n",
              "      <td>0.0</td>\n",
              "      <td>0.45</td>\n",
              "      <td>1.811</td>\n",
              "      <td>1.0</td>\n",
              "      <td>1.0</td>\n",
              "      <td>0.81</td>\n",
              "      <td>0.60</td>\n",
              "    </tr>\n",
              "    <tr>\n",
              "      <th>5</th>\n",
              "      <td>5.0</td>\n",
              "      <td>0.45</td>\n",
              "      <td>2.603</td>\n",
              "      <td>1.0</td>\n",
              "      <td>1.0</td>\n",
              "      <td>1.17</td>\n",
              "      <td>0.87</td>\n",
              "    </tr>\n",
              "    <tr>\n",
              "      <th>10</th>\n",
              "      <td>10.0</td>\n",
              "      <td>0.45</td>\n",
              "      <td>2.983</td>\n",
              "      <td>1.0</td>\n",
              "      <td>1.0</td>\n",
              "      <td>1.34</td>\n",
              "      <td>1.00</td>\n",
              "    </tr>\n",
              "    <tr>\n",
              "      <th>15</th>\n",
              "      <td>15.0</td>\n",
              "      <td>0.45</td>\n",
              "      <td>3.216</td>\n",
              "      <td>1.0</td>\n",
              "      <td>1.0</td>\n",
              "      <td>1.45</td>\n",
              "      <td>1.08</td>\n",
              "    </tr>\n",
              "    <tr>\n",
              "      <th>20</th>\n",
              "      <td>20.0</td>\n",
              "      <td>0.45</td>\n",
              "      <td>3.387</td>\n",
              "      <td>1.0</td>\n",
              "      <td>1.0</td>\n",
              "      <td>1.52</td>\n",
              "      <td>1.13</td>\n",
              "    </tr>\n",
              "    <tr>\n",
              "      <th>25</th>\n",
              "      <td>25.0</td>\n",
              "      <td>0.45</td>\n",
              "      <td>3.521</td>\n",
              "      <td>1.0</td>\n",
              "      <td>1.0</td>\n",
              "      <td>1.58</td>\n",
              "      <td>1.18</td>\n",
              "    </tr>\n",
              "    <tr>\n",
              "      <th>30</th>\n",
              "      <td>30.0</td>\n",
              "      <td>0.45</td>\n",
              "      <td>3.633</td>\n",
              "      <td>1.0</td>\n",
              "      <td>1.0</td>\n",
              "      <td>1.64</td>\n",
              "      <td>1.22</td>\n",
              "    </tr>\n",
              "  </tbody>\n",
              "</table>\n",
              "</div>"
            ],
            "text/plain": [
              "     $z$  $q_b$  $c_e$  $c_p$  $cc$  $q_e$   $r$\n",
              "0    0.0   0.45  1.811    1.0   1.0   0.81  0.60\n",
              "5    5.0   0.45  2.603    1.0   1.0   1.17  0.87\n",
              "10  10.0   0.45  2.983    1.0   1.0   1.34  1.00\n",
              "15  15.0   0.45  3.216    1.0   1.0   1.45  1.08\n",
              "20  20.0   0.45  3.387    1.0   1.0   1.52  1.13\n",
              "25  25.0   0.45  3.521    1.0   1.0   1.58  1.18\n",
              "30  30.0   0.45  3.633    1.0   1.0   1.64  1.22"
            ]
          },
          "metadata": {
            "tags": []
          },
          "execution_count": 52
        }
      ]
    },
    {
      "cell_type": "markdown",
      "metadata": {
        "id": "z9oZD8A3fV8t",
        "colab_type": "text"
      },
      "source": [
        "Donde:\n",
        "\n",
        "- $z$: altura sobre el terreno en $m$.\n",
        "- $q_b$: valor básico de la presión dinámica en $kN/m²$.\n",
        "- $c_e$: coeficiente de exposición.\n",
        "- $c_e$: coeficiente eólico.\n",
        "- $q_e$: presión estática en $kN/m²$.\n",
        "- $r$: relación de presiones estáticas con respecto a $q_e (z = 10 \\text{ m})$."
      ]
    },
    {
      "cell_type": "markdown",
      "metadata": {
        "id": "Rgwb4NM7fV8t",
        "colab_type": "text"
      },
      "source": [
        "### Gráfica"
      ]
    },
    {
      "cell_type": "code",
      "metadata": {
        "id": "3lLWW7-efV8v",
        "colab_type": "code",
        "outputId": "64d6c8b3-0b5b-492b-e3de-71bb3fd2c6e5",
        "colab": {
          "base_uri": "https://localhost:8080/",
          "height": 285
        }
      },
      "source": [
        "x_max = df['$q_e$'].loc[df['$z$'] == z_max].values.item()\n",
        "x_max = ceil(x_max)\n",
        "xlim=[0, x_max]\n",
        "ylim=[0, z_max]\n",
        "df.plot(kind='line', x='$q_e$', y='$z$', xlim=xlim, ylim=ylim, legend=False, grid=True)\n",
        "plt.show()"
      ],
      "execution_count": 0,
      "outputs": [
        {
          "output_type": "display_data",
          "data": {
            "image/png": "[encoded data removed]",
            "text/plain": [
              "<Figure size 432x288 with 1 Axes>"
            ]
          },
          "metadata": {
            "tags": [],
            "needs_background": "light"
          }
        }
      ]
    },
    {
      "cell_type": "markdown",
      "metadata": {
        "id": "Qv1J36r2fV82",
        "colab_type": "text"
      },
      "source": [
        "## Versión\n",
        "---"
      ]
    },
    {
      "cell_type": "code",
      "metadata": {
        "id": "fYBApwJSfV89",
        "colab_type": "code",
        "outputId": "1b7a6aef-9df1-4e23-f1ec-f696b28c53d6",
        "colab": {
          "base_uri": "https://localhost:8080/",
          "height": 527
        }
      },
      "source": [
        "%load_ext version_information\n",
        "%version_information matplotlib, numpy, pandas"
      ],
      "execution_count": 0,
      "outputs": [
        {
          "output_type": "error",
          "ename": "ModuleNotFoundError",
          "evalue": "ignored",
          "traceback": [
            "\u001b[0;31m---------------------------------------------------------------------------\u001b[0m",
            "\u001b[0;31mModuleNotFoundError\u001b[0m                       Traceback (most recent call last)",
            "\u001b[0;32m<ipython-input-54-3f643331e55d>\u001b[0m in \u001b[0;36m<module>\u001b[0;34m()\u001b[0m\n\u001b[0;32m----> 1\u001b[0;31m \u001b[0mget_ipython\u001b[0m\u001b[0;34m(\u001b[0m\u001b[0;34m)\u001b[0m\u001b[0;34m.\u001b[0m\u001b[0mmagic\u001b[0m\u001b[0;34m(\u001b[0m\u001b[0;34m'load_ext version_information'\u001b[0m\u001b[0;34m)\u001b[0m\u001b[0;34m\u001b[0m\u001b[0;34m\u001b[0m\u001b[0m\n\u001b[0m\u001b[1;32m      2\u001b[0m \u001b[0mget_ipython\u001b[0m\u001b[0;34m(\u001b[0m\u001b[0;34m)\u001b[0m\u001b[0;34m.\u001b[0m\u001b[0mmagic\u001b[0m\u001b[0;34m(\u001b[0m\u001b[0;34m'version_information matplotlib, numpy, pandas'\u001b[0m\u001b[0;34m)\u001b[0m\u001b[0;34m\u001b[0m\u001b[0;34m\u001b[0m\u001b[0m\n",
            "\u001b[0;32m/usr/local/lib/python3.6/dist-packages/IPython/core/interactiveshell.py\u001b[0m in \u001b[0;36mmagic\u001b[0;34m(self, arg_s)\u001b[0m\n\u001b[1;32m   2158\u001b[0m         \u001b[0mmagic_name\u001b[0m\u001b[0;34m,\u001b[0m \u001b[0m_\u001b[0m\u001b[0;34m,\u001b[0m \u001b[0mmagic_arg_s\u001b[0m \u001b[0;34m=\u001b[0m \u001b[0marg_s\u001b[0m\u001b[0;34m.\u001b[0m\u001b[0mpartition\u001b[0m\u001b[0;34m(\u001b[0m\u001b[0;34m' '\u001b[0m\u001b[0;34m)\u001b[0m\u001b[0;34m\u001b[0m\u001b[0;34m\u001b[0m\u001b[0m\n\u001b[1;32m   2159\u001b[0m         \u001b[0mmagic_name\u001b[0m \u001b[0;34m=\u001b[0m \u001b[0mmagic_name\u001b[0m\u001b[0;34m.\u001b[0m\u001b[0mlstrip\u001b[0m\u001b[0;34m(\u001b[0m\u001b[0mprefilter\u001b[0m\u001b[0;34m.\u001b[0m\u001b[0mESC_MAGIC\u001b[0m\u001b[0;34m)\u001b[0m\u001b[0;34m\u001b[0m\u001b[0;34m\u001b[0m\u001b[0m\n\u001b[0;32m-> 2160\u001b[0;31m         \u001b[0;32mreturn\u001b[0m \u001b[0mself\u001b[0m\u001b[0;34m.\u001b[0m\u001b[0mrun_line_magic\u001b[0m\u001b[0;34m(\u001b[0m\u001b[0mmagic_name\u001b[0m\u001b[0;34m,\u001b[0m \u001b[0mmagic_arg_s\u001b[0m\u001b[0;34m)\u001b[0m\u001b[0;34m\u001b[0m\u001b[0;34m\u001b[0m\u001b[0m\n\u001b[0m\u001b[1;32m   2161\u001b[0m \u001b[0;34m\u001b[0m\u001b[0m\n\u001b[1;32m   2162\u001b[0m     \u001b[0;31m#-------------------------------------------------------------------------\u001b[0m\u001b[0;34m\u001b[0m\u001b[0;34m\u001b[0m\u001b[0;34m\u001b[0m\u001b[0m\n",
            "\u001b[0;32m/usr/local/lib/python3.6/dist-packages/IPython/core/interactiveshell.py\u001b[0m in \u001b[0;36mrun_line_magic\u001b[0;34m(self, magic_name, line)\u001b[0m\n\u001b[1;32m   2079\u001b[0m                 \u001b[0mkwargs\u001b[0m\u001b[0;34m[\u001b[0m\u001b[0;34m'local_ns'\u001b[0m\u001b[0;34m]\u001b[0m \u001b[0;34m=\u001b[0m \u001b[0msys\u001b[0m\u001b[0;34m.\u001b[0m\u001b[0m_getframe\u001b[0m\u001b[0;34m(\u001b[0m\u001b[0mstack_depth\u001b[0m\u001b[0;34m)\u001b[0m\u001b[0;34m.\u001b[0m\u001b[0mf_locals\u001b[0m\u001b[0;34m\u001b[0m\u001b[0;34m\u001b[0m\u001b[0m\n\u001b[1;32m   2080\u001b[0m             \u001b[0;32mwith\u001b[0m \u001b[0mself\u001b[0m\u001b[0;34m.\u001b[0m\u001b[0mbuiltin_trap\u001b[0m\u001b[0;34m:\u001b[0m\u001b[0;34m\u001b[0m\u001b[0;34m\u001b[0m\u001b[0m\n\u001b[0;32m-> 2081\u001b[0;31m                 \u001b[0mresult\u001b[0m \u001b[0;34m=\u001b[0m \u001b[0mfn\u001b[0m\u001b[0;34m(\u001b[0m\u001b[0;34m*\u001b[0m\u001b[0margs\u001b[0m\u001b[0;34m,\u001b[0m\u001b[0;34m**\u001b[0m\u001b[0mkwargs\u001b[0m\u001b[0;34m)\u001b[0m\u001b[0;34m\u001b[0m\u001b[0;34m\u001b[0m\u001b[0m\n\u001b[0m\u001b[1;32m   2082\u001b[0m             \u001b[0;32mreturn\u001b[0m \u001b[0mresult\u001b[0m\u001b[0;34m\u001b[0m\u001b[0;34m\u001b[0m\u001b[0m\n\u001b[1;32m   2083\u001b[0m \u001b[0;34m\u001b[0m\u001b[0m\n",
            "\u001b[0;32m<decorator-gen-63>\u001b[0m in \u001b[0;36mload_ext\u001b[0;34m(self, module_str)\u001b[0m\n",
            "\u001b[0;32m/usr/local/lib/python3.6/dist-packages/IPython/core/magic.py\u001b[0m in \u001b[0;36m<lambda>\u001b[0;34m(f, *a, **k)\u001b[0m\n\u001b[1;32m    186\u001b[0m     \u001b[0;31m# but it's overkill for just that one bit of state.\u001b[0m\u001b[0;34m\u001b[0m\u001b[0;34m\u001b[0m\u001b[0;34m\u001b[0m\u001b[0m\n\u001b[1;32m    187\u001b[0m     \u001b[0;32mdef\u001b[0m \u001b[0mmagic_deco\u001b[0m\u001b[0;34m(\u001b[0m\u001b[0marg\u001b[0m\u001b[0;34m)\u001b[0m\u001b[0;34m:\u001b[0m\u001b[0;34m\u001b[0m\u001b[0;34m\u001b[0m\u001b[0m\n\u001b[0;32m--> 188\u001b[0;31m         \u001b[0mcall\u001b[0m \u001b[0;34m=\u001b[0m \u001b[0;32mlambda\u001b[0m \u001b[0mf\u001b[0m\u001b[0;34m,\u001b[0m \u001b[0;34m*\u001b[0m\u001b[0ma\u001b[0m\u001b[0;34m,\u001b[0m \u001b[0;34m**\u001b[0m\u001b[0mk\u001b[0m\u001b[0;34m:\u001b[0m \u001b[0mf\u001b[0m\u001b[0;34m(\u001b[0m\u001b[0;34m*\u001b[0m\u001b[0ma\u001b[0m\u001b[0;34m,\u001b[0m \u001b[0;34m**\u001b[0m\u001b[0mk\u001b[0m\u001b[0;34m)\u001b[0m\u001b[0;34m\u001b[0m\u001b[0;34m\u001b[0m\u001b[0m\n\u001b[0m\u001b[1;32m    189\u001b[0m \u001b[0;34m\u001b[0m\u001b[0m\n\u001b[1;32m    190\u001b[0m         \u001b[0;32mif\u001b[0m \u001b[0mcallable\u001b[0m\u001b[0;34m(\u001b[0m\u001b[0marg\u001b[0m\u001b[0;34m)\u001b[0m\u001b[0;34m:\u001b[0m\u001b[0;34m\u001b[0m\u001b[0;34m\u001b[0m\u001b[0m\n",
            "\u001b[0;32m/usr/local/lib/python3.6/dist-packages/IPython/core/magics/extension.py\u001b[0m in \u001b[0;36mload_ext\u001b[0;34m(self, module_str)\u001b[0m\n\u001b[1;32m     35\u001b[0m         \u001b[0;32mif\u001b[0m \u001b[0;32mnot\u001b[0m \u001b[0mmodule_str\u001b[0m\u001b[0;34m:\u001b[0m\u001b[0;34m\u001b[0m\u001b[0;34m\u001b[0m\u001b[0m\n\u001b[1;32m     36\u001b[0m             \u001b[0;32mraise\u001b[0m \u001b[0mUsageError\u001b[0m\u001b[0;34m(\u001b[0m\u001b[0;34m'Missing module name.'\u001b[0m\u001b[0;34m)\u001b[0m\u001b[0;34m\u001b[0m\u001b[0;34m\u001b[0m\u001b[0m\n\u001b[0;32m---> 37\u001b[0;31m         \u001b[0mres\u001b[0m \u001b[0;34m=\u001b[0m \u001b[0mself\u001b[0m\u001b[0;34m.\u001b[0m\u001b[0mshell\u001b[0m\u001b[0;34m.\u001b[0m\u001b[0mextension_manager\u001b[0m\u001b[0;34m.\u001b[0m\u001b[0mload_extension\u001b[0m\u001b[0;34m(\u001b[0m\u001b[0mmodule_str\u001b[0m\u001b[0;34m)\u001b[0m\u001b[0;34m\u001b[0m\u001b[0;34m\u001b[0m\u001b[0m\n\u001b[0m\u001b[1;32m     38\u001b[0m \u001b[0;34m\u001b[0m\u001b[0m\n\u001b[1;32m     39\u001b[0m         \u001b[0;32mif\u001b[0m \u001b[0mres\u001b[0m \u001b[0;34m==\u001b[0m \u001b[0;34m'already loaded'\u001b[0m\u001b[0;34m:\u001b[0m\u001b[0;34m\u001b[0m\u001b[0;34m\u001b[0m\u001b[0m\n",
            "\u001b[0;32m/usr/local/lib/python3.6/dist-packages/IPython/core/extensions.py\u001b[0m in \u001b[0;36mload_extension\u001b[0;34m(self, module_str)\u001b[0m\n\u001b[1;32m     81\u001b[0m             \u001b[0;32mif\u001b[0m \u001b[0mmodule_str\u001b[0m \u001b[0;32mnot\u001b[0m \u001b[0;32min\u001b[0m \u001b[0msys\u001b[0m\u001b[0;34m.\u001b[0m\u001b[0mmodules\u001b[0m\u001b[0;34m:\u001b[0m\u001b[0;34m\u001b[0m\u001b[0;34m\u001b[0m\u001b[0m\n\u001b[1;32m     82\u001b[0m                 \u001b[0;32mwith\u001b[0m \u001b[0mprepended_to_syspath\u001b[0m\u001b[0;34m(\u001b[0m\u001b[0mself\u001b[0m\u001b[0;34m.\u001b[0m\u001b[0mipython_extension_dir\u001b[0m\u001b[0;34m)\u001b[0m\u001b[0;34m:\u001b[0m\u001b[0;34m\u001b[0m\u001b[0;34m\u001b[0m\u001b[0m\n\u001b[0;32m---> 83\u001b[0;31m                     \u001b[0m__import__\u001b[0m\u001b[0;34m(\u001b[0m\u001b[0mmodule_str\u001b[0m\u001b[0;34m)\u001b[0m\u001b[0;34m\u001b[0m\u001b[0;34m\u001b[0m\u001b[0m\n\u001b[0m\u001b[1;32m     84\u001b[0m             \u001b[0mmod\u001b[0m \u001b[0;34m=\u001b[0m \u001b[0msys\u001b[0m\u001b[0;34m.\u001b[0m\u001b[0mmodules\u001b[0m\u001b[0;34m[\u001b[0m\u001b[0mmodule_str\u001b[0m\u001b[0;34m]\u001b[0m\u001b[0;34m\u001b[0m\u001b[0;34m\u001b[0m\u001b[0m\n\u001b[1;32m     85\u001b[0m             \u001b[0;32mif\u001b[0m \u001b[0mself\u001b[0m\u001b[0;34m.\u001b[0m\u001b[0m_call_load_ipython_extension\u001b[0m\u001b[0;34m(\u001b[0m\u001b[0mmod\u001b[0m\u001b[0;34m)\u001b[0m\u001b[0;34m:\u001b[0m\u001b[0;34m\u001b[0m\u001b[0;34m\u001b[0m\u001b[0m\n",
            "\u001b[0;31mModuleNotFoundError\u001b[0m: No module named 'version_information'",
            "",
            "\u001b[0;31m---------------------------------------------------------------------------\u001b[0;32m\nNOTE: If your import is failing due to a missing package, you can\nmanually install dependencies using either !pip or !apt.\n\nTo view examples of installing some common dependencies, click the\n\"Open Examples\" button below.\n\u001b[0;31m---------------------------------------------------------------------------\u001b[0m\n"
          ]
        }
      ]
    },
    {
      "cell_type": "code",
      "metadata": {
        "id": "Q4yeE0Chh25A",
        "colab_type": "code",
        "colab": {}
      },
      "source": [
        ""
      ],
      "execution_count": 0,
      "outputs": []
    }
  ]
}