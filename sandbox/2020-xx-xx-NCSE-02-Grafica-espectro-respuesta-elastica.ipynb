{
 "cells": [
  {
   "cell_type": "markdown",
   "metadata": {},
   "source": [
    "# Gráfica del espectro de respuesta elástica según la norma de Construcción Sismorresistente NCSE-02"
   ]
  },
  {
   "cell_type": "markdown",
   "metadata": {},
   "source": [
    "Recientemente tuve que incluir en una memoria de cálculo la gráfica del espectro de respuesta elástica que se obtiene de la **Norma de Construcción Sismorresistente NCSE-02**. Hasta la fecha hubiera usado **Excel** para crear la gráfica e insertarla en el documento. Esta vez he querido hacerlo con [Jupyter](https://jupyter.org/) y así comprobar la efectividad de la aplicación en comparación con **Excel**. Este es el resultado."
   ]
  },
  {
   "cell_type": "markdown",
   "metadata": {},
   "source": [
    "## Espectro de respuesta elástica (2.3)"
   ]
  },
  {
   "cell_type": "markdown",
   "metadata": {},
   "source": [
    "La norma establece un espectro normalizado de respuesta elástica en la superficie libre del terreno, para acciones horizontales, correspondiente a un oscilador lineal simple con un amortiguamiento de referencia del 5 % respecto al crítico, definido por los siguientes valores:\n",
    "\n",
    "$$\n",
    "\\alpha(T) =\n",
    "\\begin{cases}\n",
    "1 + 1,5 · T / T_A & \\quad \\text{si } T < T_A\\\\\n",
    "2,5  & \\quad \\text{si } T_A \\leq T \\leq T_B\\\\\n",
    "K · C / T & \\quad \\text{si } T > T_B\n",
    "\\end{cases}\n",
    "$$\n",
    "\n",
    "Siendo:\n",
    "\n",
    "| Símbolo | Definición |\n",
    "| ------- | ---------- |\n",
    "| $\\alpha(T)$ | Valor del espectro normalizado de respuesta elástica. |\n",
    "| $T$ | Periodo propio del oscilador en segundos. |\n",
    "| $K$ | Coeficiente de contribución. |\n",
    "| $C$ | Coeficiente del terreno. |\n",
    "| $T_A, T_B$ | Periodos característicos del espectro de respuesta. |\n",
    "\n",
    "![gráfica](figura_2_2.png \"Espectro de respuesta elástica\")"
   ]
  },
  {
   "cell_type": "markdown",
   "metadata": {},
   "source": [
    "## Librerías"
   ]
  },
  {
   "cell_type": "code",
   "execution_count": 1,
   "metadata": {},
   "outputs": [],
   "source": [
    "import matplotlib.pyplot as plt\n",
    "import numpy as np"
   ]
  },
  {
   "cell_type": "markdown",
   "metadata": {},
   "source": [
    "Si el objetivo es crear un notebook que pueda incluir como documento anexo junto con el resto de la documentación, me interesa que las gráficas estén incluidas en el mismo notebook. En este caso debo indicar que las gráficas de `matplotlib` las plotee en línea."
   ]
  },
  {
   "cell_type": "code",
   "execution_count": 2,
   "metadata": {},
   "outputs": [],
   "source": [
    "# Plot in line\n",
    "%matplotlib inline"
   ]
  },
  {
   "cell_type": "markdown",
   "metadata": {},
   "source": [
    "En este caso, si quiero tener una copia de la imagen de la gráfica, debo indicarlo más adelante cuando genere la gráfica."
   ]
  },
  {
   "cell_type": "markdown",
   "metadata": {},
   "source": [
    "Por otro lado, puede que no me interese presentar la gráfica en el mismo notebook, la opción es crear un plot interactivo. La ventaja que ofrece es que me permite estudiar con mayor detalle la gráfica y guardarla con un tipo de formato a mi elección."
   ]
  },
  {
   "cell_type": "code",
   "execution_count": 3,
   "metadata": {},
   "outputs": [
    {
     "name": "stdout",
     "output_type": "stream",
     "text": [
      "Using matplotlib backend: Qt5Agg\n"
     ]
    }
   ],
   "source": [
    "# Plot interactivo.\n",
    "%matplotlib"
   ]
  },
  {
   "cell_type": "markdown",
   "metadata": {},
   "source": [
    "## Datos de entrada"
   ]
  },
  {
   "cell_type": "markdown",
   "metadata": {},
   "source": [
    "En mi caso de estudio estos son los datos de entrada."
   ]
  },
  {
   "cell_type": "markdown",
   "metadata": {},
   "source": [
    "### Municipio"
   ]
  },
  {
   "cell_type": "markdown",
   "metadata": {},
   "source": [
    "Palos de la Frontera, Huelva."
   ]
  },
  {
   "cell_type": "markdown",
   "metadata": {},
   "source": [
    "### Periodo propio del oscilador $T$"
   ]
  },
  {
   "cell_type": "markdown",
   "metadata": {},
   "source": [
    "El rango de los modos de vibración irá de 0 a 4 segundos. Para obtener una buena curva realizaré una medición cada 0,01 segundos, esto genera 401 puntos en el rango de estudio."
   ]
  },
  {
   "cell_type": "code",
   "execution_count": 4,
   "metadata": {},
   "outputs": [],
   "source": [
    "T = np.linspace(0, 4, 401)  # [s]"
   ]
  },
  {
   "cell_type": "markdown",
   "metadata": {},
   "source": [
    "### Coeficiente de contribución $K$"
   ]
  },
  {
   "cell_type": "markdown",
   "metadata": {},
   "source": [
    "Según **anejo 1**."
   ]
  },
  {
   "cell_type": "code",
   "execution_count": 5,
   "metadata": {},
   "outputs": [],
   "source": [
    "K = 1.3"
   ]
  },
  {
   "cell_type": "markdown",
   "metadata": {},
   "source": [
    "### Coeficiente del terreno $C$"
   ]
  },
  {
   "cell_type": "markdown",
   "metadata": {},
   "source": [
    "**Tabla 2.1** para un terreno de **tipo III**."
   ]
  },
  {
   "cell_type": "code",
   "execution_count": 6,
   "metadata": {},
   "outputs": [],
   "source": [
    "C = 1.6"
   ]
  },
  {
   "cell_type": "markdown",
   "metadata": {},
   "source": [
    "### Periodo característico del espectro de respuesta $T_A$"
   ]
  },
  {
   "cell_type": "markdown",
   "metadata": {},
   "source": [
    "Según apartado **2.3. Espectro de respuesta elástica**."
   ]
  },
  {
   "cell_type": "code",
   "execution_count": 7,
   "metadata": {},
   "outputs": [],
   "source": [
    "TA = K * C / 10  # [s]"
   ]
  },
  {
   "cell_type": "markdown",
   "metadata": {},
   "source": [
    "### Periodo característico del espectro de respuesta $T_B$"
   ]
  },
  {
   "cell_type": "markdown",
   "metadata": {},
   "source": [
    "Según apartado **2.3. Espectro de respuesta elástica**."
   ]
  },
  {
   "cell_type": "code",
   "execution_count": 8,
   "metadata": {},
   "outputs": [],
   "source": [
    "TB = K * C / 2.5  # [s]"
   ]
  },
  {
   "cell_type": "markdown",
   "metadata": {},
   "source": [
    "## Espectro de respuesta elástica $\\alpha(T)$"
   ]
  },
  {
   "cell_type": "code",
   "execution_count": 9,
   "metadata": {},
   "outputs": [],
   "source": [
    "def espectro_respuesta_elastica(t, ta, tb, k, c):\n",
    "    \"\"\"\n",
    "    Espectro de respuesta elástica según la norma NCSE-02, apartado 2.3.\n",
    "    \n",
    "    Inputs:\n",
    "    -------\n",
    "    t  : numpy.ndarray; periodo propio del oscilador [s].\n",
    "    ta : float; periodo característico del espectro de respuesta [s].\n",
    "    tb : float; periodo característico del espectro de respuesta [s].\n",
    "    k  : float; coeficiente de contribución [].\n",
    "    c  : float; coeficiente del terreno [].\n",
    "    \n",
    "    Output:\n",
    "    -------\n",
    "    alfa : list; valor del espectro normalizado de respuesta elástica [].\n",
    "    \"\"\"\n",
    "    \n",
    "    alfa = []\n",
    "    \n",
    "    for ti in t:\n",
    "        if ti < ta:\n",
    "            a = 1 + 1.5 * ti / ta\n",
    "        elif ti <= tb:\n",
    "            a = 2.5\n",
    "        elif ti > tb:\n",
    "            a = k * c / ti\n",
    "        alfa.append(a)\n",
    "        \n",
    "    return alfa"
   ]
  },
  {
   "cell_type": "code",
   "execution_count": 10,
   "metadata": {},
   "outputs": [],
   "source": [
    "alfa_T = espectro_respuesta_elastica(T, TA, TB, K, C)"
   ]
  },
  {
   "cell_type": "markdown",
   "metadata": {},
   "source": [
    "## Gráfica"
   ]
  },
  {
   "cell_type": "code",
   "execution_count": 11,
   "metadata": {},
   "outputs": [],
   "source": [
    "plt.style.use('seaborn-whitegrid')\n",
    "fig = plt.figure()\n",
    "ax = plt.axes()\n",
    "x = T\n",
    "y = alfa_T\n",
    "xlim=[0, max(T)]\n",
    "ylim=[0, 3]\n",
    "xlabel = 'Periodo de oscilación $T$ [s]'\n",
    "ylabel = 'Espectro de respuesta elástica $\\\\alpha(T)$'\n",
    "title = 'Espectro de respuesta elástica'\n",
    "ax.plot(x, y)\n",
    "ax.set(xlim=xlim, ylim=ylim, xlabel=xlabel, ylabel=ylabel, title=title)\n",
    "#plt.savefig('grafica_espectro.png')  # Para guardar la imagen si se indica `%matplotlib inline`.\n",
    "plt.show()"
   ]
  },
  {
   "cell_type": "markdown",
   "metadata": {},
   "source": [
    "Si he optado por la opción de plotear la gráfica en el mismo notebook y además quiero guardar una copia de la imagen, tengo que activar el siguiente código:"
   ]
  },
  {
   "cell_type": "code",
   "execution_count": 12,
   "metadata": {},
   "outputs": [],
   "source": [
    "plt.savefig('grafica_espectro.png')"
   ]
  },
  {
   "cell_type": "markdown",
   "metadata": {},
   "source": [
    "## Conclusión"
   ]
  },
  {
   "cell_type": "markdown",
   "metadata": {},
   "source": [
    "Con unas sencillas líneas de código he creado un documento **Jupyter Notebook** que obtiene la gráfica del espectro de respuesta elástica según la **Norma de Construcción Sismorresistente NCSE-02**. El texto [Markdown](https://www.markdownguide.org/) me permite incluir comentarios, fórmulas e imágenes que hacen referencia a la norma.\n",
    "\n",
    "El código se divide en tres partes:\n",
    "\n",
    "- la entrada de datos según los parámetros necesarios que indica la norma, \n",
    "- la función que devuelve los valores del espectro normalizado de respuesta elástica y \n",
    "- la gráfica que genera `matplotlib`.\n",
    "\n",
    "El resultado final es una imagen de la gráfica del espectro. Puedo elegir entre la opción de incluir la imagen dentro del notebook y luego guardarla como un fichero de imagen u obtener una imagen escalable que me permite analizarla con mayor detalle e igualmente guardarla con diferentes formatos.\n",
    "\n",
    "El **Jupyter Notebook** resultante no es más complicado que una **Excel** y tiene un mantenimiento sencillo que me permite adaptar los datos para un caso de estudio diferente. La función `espectro_respuesta_elastica()` también me puede servir en futuras aplicaciones relacionadas con la norma **NCSE-02**.\n",
    "\n",
    "Creo que puede ser una alternativa a tener en cuenta a la forma de trabajo usada hasta ahora, que se complementa con el abanico de posibilidades disponiblese incluso las amplia."
   ]
  },
  {
   "cell_type": "markdown",
   "metadata": {},
   "source": [
    "## Versión"
   ]
  },
  {
   "cell_type": "code",
   "execution_count": 13,
   "metadata": {},
   "outputs": [
    {
     "data": {
      "application/json": {
       "Software versions": [
        {
         "module": "Python",
         "version": "3.7.7 64bit [MSC v.1916 64 bit (AMD64)]"
        },
        {
         "module": "IPython",
         "version": "7.13.0"
        },
        {
         "module": "OS",
         "version": "Windows 10 10.0.18362 SP0"
        },
        {
         "module": "matplotlib",
         "version": "3.1.3"
        },
        {
         "module": "numpy",
         "version": "1.18.1"
        }
       ]
      },
      "text/html": [
       "<table><tr><th>Software</th><th>Version</th></tr><tr><td>Python</td><td>3.7.7 64bit [MSC v.1916 64 bit (AMD64)]</td></tr><tr><td>IPython</td><td>7.13.0</td></tr><tr><td>OS</td><td>Windows 10 10.0.18362 SP0</td></tr><tr><td>matplotlib</td><td>3.1.3</td></tr><tr><td>numpy</td><td>1.18.1</td></tr><tr><td colspan='2'>Thu Jul 02 13:16:01 2020 Hora de verano romance</td></tr></table>"
      ],
      "text/latex": [
       "\\begin{tabular}{|l|l|}\\hline\n",
       "{\\bf Software} & {\\bf Version} \\\\ \\hline\\hline\n",
       "Python & 3.7.7 64bit [MSC v.1916 64 bit (AMD64)] \\\\ \\hline\n",
       "IPython & 7.13.0 \\\\ \\hline\n",
       "OS & Windows 10 10.0.18362 SP0 \\\\ \\hline\n",
       "matplotlib & 3.1.3 \\\\ \\hline\n",
       "numpy & 1.18.1 \\\\ \\hline\n",
       "\\hline \\multicolumn{2}{|l|}{Thu Jul 02 13:16:01 2020 Hora de verano romance} \\\\ \\hline\n",
       "\\end{tabular}\n"
      ],
      "text/plain": [
       "Software versions\n",
       "Python 3.7.7 64bit [MSC v.1916 64 bit (AMD64)]\n",
       "IPython 7.13.0\n",
       "OS Windows 10 10.0.18362 SP0\n",
       "matplotlib 3.1.3\n",
       "numpy 1.18.1\n",
       "Thu Jul 02 13:16:01 2020 Hora de verano romance"
      ]
     },
     "execution_count": 13,
     "metadata": {},
     "output_type": "execute_result"
    }
   ],
   "source": [
    "%load_ext version_information\n",
    "%version_information matplotlib, numpy"
   ]
  },
  {
   "cell_type": "code",
   "execution_count": null,
   "metadata": {},
   "outputs": [],
   "source": []
  }
 ],
 "metadata": {
  "kernelspec": {
   "display_name": "Python 3",
   "language": "python",
   "name": "python3"
  },
  "language_info": {
   "codemirror_mode": {
    "name": "ipython",
    "version": 3
   },
   "file_extension": ".py",
   "mimetype": "text/x-python",
   "name": "python",
   "nbconvert_exporter": "python",
   "pygments_lexer": "ipython3",
   "version": "3.7.7"
  }
 },
 "nbformat": 4,
 "nbformat_minor": 4
}
